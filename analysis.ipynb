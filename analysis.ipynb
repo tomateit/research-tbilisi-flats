{
 "cells": [
  {
   "cell_type": "code",
   "execution_count": 1,
   "id": "cbfc651c-c976-43c8-92ea-154ac7815dee",
   "metadata": {},
   "outputs": [],
   "source": [
    "import pandas as pd\n",
    "from pathlib import Path\n",
    "import json\n",
    "from datetime import datetime"
   ]
  },
  {
   "cell_type": "markdown",
   "id": "e328b6b9-ad06-471a-80ab-efa746a2ef63",
   "metadata": {},
   "source": [
    "## 1. Data import"
   ]
  },
  {
   "cell_type": "code",
   "execution_count": 2,
   "id": "17fea81a-1bcd-40fc-9bd6-2560f30525ee",
   "metadata": {},
   "outputs": [],
   "source": [
    "data_path = Path(\"./data\")"
   ]
  },
  {
   "cell_type": "code",
   "execution_count": 3,
   "id": "9d7b82a6-9604-4ac6-9fd0-a9d55e95e16d",
   "metadata": {},
   "outputs": [],
   "source": [
    "# telegram specific text with entities format\n",
    "def join_message(arr) -> str:\n",
    "    buffer = []\n",
    "    for chunk in arr:\n",
    "        if type(chunk) == str:\n",
    "            buffer.append(chunk)\n",
    "    return \" \".join(buffer)"
   ]
  },
  {
   "cell_type": "code",
   "execution_count": 4,
   "id": "c24c6872-a9e7-4468-aa2f-c411cab92422",
   "metadata": {},
   "outputs": [],
   "source": [
    "chunks = []\n",
    "for file in data_path.glob(\"*.json\"):\n",
    "    data = json.loads(file.read_text())\n",
    "    chunk_template = {\n",
    "        \"link\": file.name,\n",
    "        \"id\": data[\"id\"],\n",
    "        \"name\": data[\"name\"],\n",
    "    }\n",
    "    for item in data[\"messages\"]:\n",
    "        if (item[\"type\"] != \"message\"): continue\n",
    "        if len(item.get(\"text\")) < 5: continue\n",
    "        text = item[\"text\"]\n",
    "        if type(text) == list:\n",
    "            text = join_message(text)\n",
    "        chunk = chunk_template | {\n",
    "            \"timestamp\": item[\"date\"],\n",
    "            \"text\": text\n",
    "        }\n",
    "        chunks.append(chunk)"
   ]
  },
  {
   "cell_type": "code",
   "execution_count": 5,
   "id": "affefd8c-48fd-41bd-bedc-94c24b18a091",
   "metadata": {},
   "outputs": [
    {
     "data": {
      "text/plain": [
       "5894"
      ]
     },
     "execution_count": 5,
     "metadata": {},
     "output_type": "execute_result"
    }
   ],
   "source": [
    "len(chunks)"
   ]
  },
  {
   "cell_type": "markdown",
   "id": "c76b344a-f766-4121-881d-eae11251eb84",
   "metadata": {},
   "source": [
    "## 2. Coersions and filtering"
   ]
  },
  {
   "cell_type": "code",
   "execution_count": 6,
   "id": "aa3028e4-87bf-4410-a7d4-d036f617897b",
   "metadata": {},
   "outputs": [],
   "source": [
    "df = pd.DataFrame(chunks)"
   ]
  },
  {
   "cell_type": "code",
   "execution_count": 7,
   "id": "23e26f21-da3d-462d-8d2e-9724ea695ed7",
   "metadata": {},
   "outputs": [],
   "source": [
    "df[\"timestamp\"] = pd.to_datetime(df[\"timestamp\"])"
   ]
  },
  {
   "cell_type": "code",
   "execution_count": 8,
   "id": "d0fad19c-dfe9-4179-a98a-17864cadc406",
   "metadata": {},
   "outputs": [
    {
     "data": {
      "text/plain": [
       "(Timestamp('2019-07-13 15:54:42'), Timestamp('2022-06-12 10:56:18'))"
      ]
     },
     "execution_count": 8,
     "metadata": {},
     "output_type": "execute_result"
    }
   ],
   "source": [
    "df[\"timestamp\"].min(), df[\"timestamp\"].max()"
   ]
  },
  {
   "cell_type": "code",
   "execution_count": 9,
   "id": "c93c5986-d038-470f-aacd-5ec93fb1cf4c",
   "metadata": {},
   "outputs": [],
   "source": [
    "start = datetime(year=2022, month=1, day=1)"
   ]
  },
  {
   "cell_type": "code",
   "execution_count": 10,
   "id": "2461903c-18d6-488f-a82a-7ff4d99361b5",
   "metadata": {},
   "outputs": [],
   "source": [
    "df = df[df[\"timestamp\"] > start].copy()"
   ]
  },
  {
   "cell_type": "code",
   "execution_count": 11,
   "id": "771d2ad0-6cda-48d0-bb53-82d59ec8745e",
   "metadata": {},
   "outputs": [],
   "source": [
    "df[\"date\"] = df.timestamp.apply(lambda x: x.date())"
   ]
  },
  {
   "cell_type": "code",
   "execution_count": 12,
   "id": "390522a9-acf9-4972-ac6b-1fe64fbb8041",
   "metadata": {},
   "outputs": [],
   "source": [
    "df.set_index(\"timestamp\", inplace=True)"
   ]
  },
  {
   "cell_type": "code",
   "execution_count": 13,
   "id": "bff55117-49a0-4736-b9eb-dc502b7d1273",
   "metadata": {},
   "outputs": [
    {
     "data": {
      "text/html": [
       "<div>\n",
       "<style scoped>\n",
       "    .dataframe tbody tr th:only-of-type {\n",
       "        vertical-align: middle;\n",
       "    }\n",
       "\n",
       "    .dataframe tbody tr th {\n",
       "        vertical-align: top;\n",
       "    }\n",
       "\n",
       "    .dataframe thead th {\n",
       "        text-align: right;\n",
       "    }\n",
       "</style>\n",
       "<table border=\"1\" class=\"dataframe\">\n",
       "  <thead>\n",
       "    <tr style=\"text-align: right;\">\n",
       "      <th></th>\n",
       "      <th>link</th>\n",
       "      <th>id</th>\n",
       "      <th>name</th>\n",
       "      <th>text</th>\n",
       "      <th>date</th>\n",
       "    </tr>\n",
       "    <tr>\n",
       "      <th>timestamp</th>\n",
       "      <th></th>\n",
       "      <th></th>\n",
       "      <th></th>\n",
       "      <th></th>\n",
       "      <th></th>\n",
       "    </tr>\n",
       "  </thead>\n",
       "  <tbody>\n",
       "    <tr>\n",
       "      <th>2022-03-23 11:11:02</th>\n",
       "      <td>GE4YOU.json</td>\n",
       "      <td>1170680593</td>\n",
       "      <td>🏡Тбилиси Снять, сдать, купить, продать, недвиж...</td>\n",
       "      <td>Диди Дигоми\\nТавдадебули 21\\n\\n \\n\\nНовый корп...</td>\n",
       "      <td>2022-03-23</td>\n",
       "    </tr>\n",
       "    <tr>\n",
       "      <th>2022-03-23 12:39:04</th>\n",
       "      <td>GE4YOU.json</td>\n",
       "      <td>1170680593</td>\n",
       "      <td>🏡Тбилиси Снять, сдать, купить, продать, недвиж...</td>\n",
       "      <td>Глдани 1й мкр\\nУл. Хизабавра 3 \\n\\n \\n\\nНовый ...</td>\n",
       "      <td>2022-03-23</td>\n",
       "    </tr>\n",
       "    <tr>\n",
       "      <th>2022-03-23 13:29:40</th>\n",
       "      <td>GE4YOU.json</td>\n",
       "      <td>1170680593</td>\n",
       "      <td>🏡Тбилиси Снять, сдать, купить, продать, недвиж...</td>\n",
       "      <td>Глдани\\nУл. Керчи 6 \\n\\n \\n\\nНовый корпус \\n70...</td>\n",
       "      <td>2022-03-23</td>\n",
       "    </tr>\n",
       "    <tr>\n",
       "      <th>2022-03-23 13:30:04</th>\n",
       "      <td>GE4YOU.json</td>\n",
       "      <td>1170680593</td>\n",
       "      <td>🏡Тбилиси Снять, сдать, купить, продать, недвиж...</td>\n",
       "      <td>Глдани 1й мкр\\nУл. Хизабавра 3 \\n\\n \\n\\nНовый ...</td>\n",
       "      <td>2022-03-23</td>\n",
       "    </tr>\n",
       "    <tr>\n",
       "      <th>2022-03-23 13:30:42</th>\n",
       "      <td>GE4YOU.json</td>\n",
       "      <td>1170680593</td>\n",
       "      <td>🏡Тбилиси Снять, сдать, купить, продать, недвиж...</td>\n",
       "      <td>Диди Дигоми\\nТавдадебули 21\\n\\n \\n\\nНовый корп...</td>\n",
       "      <td>2022-03-23</td>\n",
       "    </tr>\n",
       "    <tr>\n",
       "      <th>...</th>\n",
       "      <td>...</td>\n",
       "      <td>...</td>\n",
       "      <td>...</td>\n",
       "      <td>...</td>\n",
       "      <td>...</td>\n",
       "    </tr>\n",
       "    <tr>\n",
       "      <th>2022-06-10 13:39:38</th>\n",
       "      <td>arendapokupkageorgia.json</td>\n",
       "      <td>1678678376</td>\n",
       "      <td>Недвижимость Грузия Аренда Тбилиси</td>\n",
       "      <td>#939        \\n\\n600$\\n\\nКомнат 3, спален 2\\nПл...</td>\n",
       "      <td>2022-06-10</td>\n",
       "    </tr>\n",
       "    <tr>\n",
       "      <th>2022-06-10 13:44:13</th>\n",
       "      <td>arendapokupkageorgia.json</td>\n",
       "      <td>1678678376</td>\n",
       "      <td>Недвижимость Грузия Аренда Тбилиси</td>\n",
       "      <td>#940         \\n\\n500$\\n\\nКвартира-студия\\nКомн...</td>\n",
       "      <td>2022-06-10</td>\n",
       "    </tr>\n",
       "    <tr>\n",
       "      <th>2022-06-01 13:58:23</th>\n",
       "      <td>myflatintbilisi.json</td>\n",
       "      <td>1794574917</td>\n",
       "      <td>Аренда недвижимости Тбилиси (MyFlat)</td>\n",
       "      <td>Сдаётся квартира рядом с метро Варкетили с 2 с...</td>\n",
       "      <td>2022-06-01</td>\n",
       "    </tr>\n",
       "    <tr>\n",
       "      <th>2022-06-08 17:47:03</th>\n",
       "      <td>myflatintbilisi.json</td>\n",
       "      <td>1794574917</td>\n",
       "      <td>Аренда недвижимости Тбилиси (MyFlat)</td>\n",
       "      <td>Сдаётся квартира в Дигоми «Зелёный алмаз « с 3...</td>\n",
       "      <td>2022-06-08</td>\n",
       "    </tr>\n",
       "    <tr>\n",
       "      <th>2022-06-11 13:48:21</th>\n",
       "      <td>myflatintbilisi.json</td>\n",
       "      <td>1794574917</td>\n",
       "      <td>Аренда недвижимости Тбилиси (MyFlat)</td>\n",
       "      <td>Сдаётся квартира в Дигоми с одной спальней 500$</td>\n",
       "      <td>2022-06-11</td>\n",
       "    </tr>\n",
       "  </tbody>\n",
       "</table>\n",
       "<p>4272 rows × 5 columns</p>\n",
       "</div>"
      ],
      "text/plain": [
       "                                          link          id  \\\n",
       "timestamp                                                    \n",
       "2022-03-23 11:11:02                GE4YOU.json  1170680593   \n",
       "2022-03-23 12:39:04                GE4YOU.json  1170680593   \n",
       "2022-03-23 13:29:40                GE4YOU.json  1170680593   \n",
       "2022-03-23 13:30:04                GE4YOU.json  1170680593   \n",
       "2022-03-23 13:30:42                GE4YOU.json  1170680593   \n",
       "...                                        ...         ...   \n",
       "2022-06-10 13:39:38  arendapokupkageorgia.json  1678678376   \n",
       "2022-06-10 13:44:13  arendapokupkageorgia.json  1678678376   \n",
       "2022-06-01 13:58:23       myflatintbilisi.json  1794574917   \n",
       "2022-06-08 17:47:03       myflatintbilisi.json  1794574917   \n",
       "2022-06-11 13:48:21       myflatintbilisi.json  1794574917   \n",
       "\n",
       "                                                                  name  \\\n",
       "timestamp                                                                \n",
       "2022-03-23 11:11:02  🏡Тбилиси Снять, сдать, купить, продать, недвиж...   \n",
       "2022-03-23 12:39:04  🏡Тбилиси Снять, сдать, купить, продать, недвиж...   \n",
       "2022-03-23 13:29:40  🏡Тбилиси Снять, сдать, купить, продать, недвиж...   \n",
       "2022-03-23 13:30:04  🏡Тбилиси Снять, сдать, купить, продать, недвиж...   \n",
       "2022-03-23 13:30:42  🏡Тбилиси Снять, сдать, купить, продать, недвиж...   \n",
       "...                                                                ...   \n",
       "2022-06-10 13:39:38                 Недвижимость Грузия Аренда Тбилиси   \n",
       "2022-06-10 13:44:13                 Недвижимость Грузия Аренда Тбилиси   \n",
       "2022-06-01 13:58:23               Аренда недвижимости Тбилиси (MyFlat)   \n",
       "2022-06-08 17:47:03               Аренда недвижимости Тбилиси (MyFlat)   \n",
       "2022-06-11 13:48:21               Аренда недвижимости Тбилиси (MyFlat)   \n",
       "\n",
       "                                                                  text  \\\n",
       "timestamp                                                                \n",
       "2022-03-23 11:11:02  Диди Дигоми\\nТавдадебули 21\\n\\n \\n\\nНовый корп...   \n",
       "2022-03-23 12:39:04  Глдани 1й мкр\\nУл. Хизабавра 3 \\n\\n \\n\\nНовый ...   \n",
       "2022-03-23 13:29:40  Глдани\\nУл. Керчи 6 \\n\\n \\n\\nНовый корпус \\n70...   \n",
       "2022-03-23 13:30:04  Глдани 1й мкр\\nУл. Хизабавра 3 \\n\\n \\n\\nНовый ...   \n",
       "2022-03-23 13:30:42  Диди Дигоми\\nТавдадебули 21\\n\\n \\n\\nНовый корп...   \n",
       "...                                                                ...   \n",
       "2022-06-10 13:39:38  #939        \\n\\n600$\\n\\nКомнат 3, спален 2\\nПл...   \n",
       "2022-06-10 13:44:13  #940         \\n\\n500$\\n\\nКвартира-студия\\nКомн...   \n",
       "2022-06-01 13:58:23  Сдаётся квартира рядом с метро Варкетили с 2 с...   \n",
       "2022-06-08 17:47:03  Сдаётся квартира в Дигоми «Зелёный алмаз « с 3...   \n",
       "2022-06-11 13:48:21    Сдаётся квартира в Дигоми с одной спальней 500$   \n",
       "\n",
       "                           date  \n",
       "timestamp                        \n",
       "2022-03-23 11:11:02  2022-03-23  \n",
       "2022-03-23 12:39:04  2022-03-23  \n",
       "2022-03-23 13:29:40  2022-03-23  \n",
       "2022-03-23 13:30:04  2022-03-23  \n",
       "2022-03-23 13:30:42  2022-03-23  \n",
       "...                         ...  \n",
       "2022-06-10 13:39:38  2022-06-10  \n",
       "2022-06-10 13:44:13  2022-06-10  \n",
       "2022-06-01 13:58:23  2022-06-01  \n",
       "2022-06-08 17:47:03  2022-06-08  \n",
       "2022-06-11 13:48:21  2022-06-11  \n",
       "\n",
       "[4272 rows x 5 columns]"
      ]
     },
     "execution_count": 13,
     "metadata": {},
     "output_type": "execute_result"
    }
   ],
   "source": [
    "df"
   ]
  },
  {
   "cell_type": "markdown",
   "id": "8429e276-b351-4753-8d0f-17f0cc33462c",
   "metadata": {},
   "source": [
    "## 3. Parsing price"
   ]
  },
  {
   "cell_type": "markdown",
   "id": "a8ff77f5-3885-44cf-934f-ae6d4f055740",
   "metadata": {},
   "source": [
    "Price parsing will be performed in two steps:\n",
    "1. Extract any number associated with dollar sign\n",
    "2. If step 1 failed, find any round-ish number "
   ]
  },
  {
   "cell_type": "code",
   "execution_count": 14,
   "id": "1ec927e1-d60d-4e3a-9812-aaf0be2ceecf",
   "metadata": {},
   "outputs": [],
   "source": [
    "import regex as re"
   ]
  },
  {
   "cell_type": "code",
   "execution_count": 15,
   "id": "71c4ab11-8474-41a9-afb5-9fdd5bfad1a2",
   "metadata": {},
   "outputs": [],
   "source": [
    "pattern = re.compile(\"(?<=\\$?\\s?)\\d{3,4}(?=\\s?$?)\")"
   ]
  },
  {
   "cell_type": "code",
   "execution_count": 16,
   "id": "20e54c25-773c-4b35-a621-b8dbc189dd4a",
   "metadata": {},
   "outputs": [
    {
     "data": {
      "text/plain": [
       "['500']"
      ]
     },
     "execution_count": 16,
     "metadata": {},
     "output_type": "execute_result"
    }
   ],
   "source": [
    "pattern.findall(\"dakjshd $500 dhfkj\")"
   ]
  },
  {
   "cell_type": "code",
   "execution_count": 17,
   "id": "a44bf64c-c383-4f78-9b8f-cfd3d26d8fef",
   "metadata": {},
   "outputs": [],
   "source": [
    "pattern_all = re.compile(\"\\d{3,4}\")"
   ]
  },
  {
   "cell_type": "code",
   "execution_count": 18,
   "id": "34398242-3a15-42b3-b8b9-2a38b447ffcd",
   "metadata": {},
   "outputs": [
    {
     "data": {
      "text/plain": [
       "['475', '500']"
      ]
     },
     "execution_count": 18,
     "metadata": {},
     "output_type": "execute_result"
    }
   ],
   "source": [
    "pattern.findall(\"awlabari 475 dakjshd 45 square meters 500 dolars dhfkj\")"
   ]
  },
  {
   "cell_type": "code",
   "execution_count": 19,
   "id": "b825eeb3-2bca-40fd-84e6-78d6bb90f605",
   "metadata": {},
   "outputs": [],
   "source": [
    "def find_price(text) -> int:\n",
    "    results = pattern.findall(text)\n",
    "    if len(results) == 1:\n",
    "        return int(results[0])\n",
    "    elif len(results) > 1:\n",
    "        # try finding maximum value\n",
    "        return max([int(i) for i in results])\n",
    "    \n",
    "    # fallback\n",
    "    results = pattern_all.findall(text)\n",
    "    if len(results) == 1:\n",
    "        return int(results[0])\n",
    "    \n",
    "    elif len(results)> 1:\n",
    "        potential_results = []\n",
    "        for result in reults:\n",
    "            p = int(result)\n",
    "            if (p % 10 == 0) and (p % 100 == 0):\n",
    "                potential_results.append(p)\n",
    "        return max(potential_results)\n",
    "    \n",
    "    return pd.NA"
   ]
  },
  {
   "cell_type": "code",
   "execution_count": 20,
   "id": "8c2e48e9-5b20-4d5e-a01f-533b6704e90f",
   "metadata": {},
   "outputs": [
    {
     "data": {
      "text/plain": [
       "'Глдани 1й мкр\\nУл. Хизабавра 3 \\n\\n \\n\\nНовый корпус \\n92 кв\\n2 спальни \\n6/7 этаж (есть лифт)\\nБалкон\\nДуховка  \\nЦена: 1200$ \\nМожно на пол года \\nПри аренде на год и оплате за 3 месяца вперед цена: 1000$\\nМожно всем\\nПо всем вопросам пишите  '"
      ]
     },
     "execution_count": 20,
     "metadata": {},
     "output_type": "execute_result"
    }
   ],
   "source": [
    "df.text.iloc[1]"
   ]
  },
  {
   "cell_type": "code",
   "execution_count": 21,
   "id": "9abb5c96-5b3d-4dec-a2c0-31a9094cd968",
   "metadata": {},
   "outputs": [],
   "source": [
    "df[\"price\"] = df.text.apply(find_price)"
   ]
  },
  {
   "cell_type": "code",
   "execution_count": 22,
   "id": "24f82871-b387-4f1d-b1ec-bb083f4f8a9f",
   "metadata": {},
   "outputs": [
    {
     "data": {
      "text/html": [
       "<div>\n",
       "<style scoped>\n",
       "    .dataframe tbody tr th:only-of-type {\n",
       "        vertical-align: middle;\n",
       "    }\n",
       "\n",
       "    .dataframe tbody tr th {\n",
       "        vertical-align: top;\n",
       "    }\n",
       "\n",
       "    .dataframe thead th {\n",
       "        text-align: right;\n",
       "    }\n",
       "</style>\n",
       "<table border=\"1\" class=\"dataframe\">\n",
       "  <thead>\n",
       "    <tr style=\"text-align: right;\">\n",
       "      <th></th>\n",
       "      <th>link</th>\n",
       "      <th>id</th>\n",
       "      <th>name</th>\n",
       "      <th>text</th>\n",
       "      <th>date</th>\n",
       "      <th>price</th>\n",
       "    </tr>\n",
       "    <tr>\n",
       "      <th>timestamp</th>\n",
       "      <th></th>\n",
       "      <th></th>\n",
       "      <th></th>\n",
       "      <th></th>\n",
       "      <th></th>\n",
       "      <th></th>\n",
       "    </tr>\n",
       "  </thead>\n",
       "  <tbody>\n",
       "    <tr>\n",
       "      <th>2022-04-03 13:46:41</th>\n",
       "      <td>GE4YOU.json</td>\n",
       "      <td>1170680593</td>\n",
       "      <td>🏡Тбилиси Снять, сдать, купить, продать, недвиж...</td>\n",
       "      <td>📈     \\nОб этом в программе «Деловое утро» рас...</td>\n",
       "      <td>2022-04-03</td>\n",
       "      <td>&lt;NA&gt;</td>\n",
       "    </tr>\n",
       "    <tr>\n",
       "      <th>2022-04-19 10:01:37</th>\n",
       "      <td>GE4YOU.json</td>\n",
       "      <td>1170680593</td>\n",
       "      <td>🏡Тбилиси Снять, сдать, купить, продать, недвиж...</td>\n",
       "      <td>Друзья, сообщаем, что в период 22-25 апреля вк...</td>\n",
       "      <td>2022-04-19</td>\n",
       "      <td>&lt;NA&gt;</td>\n",
       "    </tr>\n",
       "    <tr>\n",
       "      <th>2022-04-20 09:35:51</th>\n",
       "      <td>GE4YOU.json</td>\n",
       "      <td>1170680593</td>\n",
       "      <td>🏡Тбилиси Снять, сдать, купить, продать, недвиж...</td>\n",
       "      <td>Друзья, сообщаем, что в период 22-25 апреля вк...</td>\n",
       "      <td>2022-04-20</td>\n",
       "      <td>&lt;NA&gt;</td>\n",
       "    </tr>\n",
       "    <tr>\n",
       "      <th>2022-04-21 09:15:55</th>\n",
       "      <td>GE4YOU.json</td>\n",
       "      <td>1170680593</td>\n",
       "      <td>🏡Тбилиси Снять, сдать, купить, продать, недвиж...</td>\n",
       "      <td>Друзья, сообщаем, что в период 22-25 апреля вк...</td>\n",
       "      <td>2022-04-21</td>\n",
       "      <td>&lt;NA&gt;</td>\n",
       "    </tr>\n",
       "    <tr>\n",
       "      <th>2022-04-21 16:54:49</th>\n",
       "      <td>GE4YOU.json</td>\n",
       "      <td>1170680593</td>\n",
       "      <td>🏡Тбилиси Снять, сдать, купить, продать, недвиж...</td>\n",
       "      <td>Друзья, сообщаем, что в период 22-25 апреля вк...</td>\n",
       "      <td>2022-04-21</td>\n",
       "      <td>&lt;NA&gt;</td>\n",
       "    </tr>\n",
       "    <tr>\n",
       "      <th>2022-03-01 12:57:19</th>\n",
       "      <td>domtb.json</td>\n",
       "      <td>1377602081</td>\n",
       "      <td>Тбилиси Объявления, Недвижимость, Аренда</td>\n",
       "      <td>Здравствуйте! Все объявления на канале по умол...</td>\n",
       "      <td>2022-03-01</td>\n",
       "      <td>&lt;NA&gt;</td>\n",
       "    </tr>\n",
       "    <tr>\n",
       "      <th>2022-03-09 08:01:32</th>\n",
       "      <td>tbilisi_arenda_ge.json</td>\n",
       "      <td>1642368689</td>\n",
       "      <td>Аренда квартир Тбилиси</td>\n",
       "      <td>Мы открываем свою группу по аренде недвижимост...</td>\n",
       "      <td>2022-03-09</td>\n",
       "      <td>&lt;NA&gt;</td>\n",
       "    </tr>\n",
       "    <tr>\n",
       "      <th>2022-03-14 15:23:20</th>\n",
       "      <td>tbilisi_arenda_ge.json</td>\n",
       "      <td>1642368689</td>\n",
       "      <td>Аренда квартир Тбилиси</td>\n",
       "      <td>👆 UPD: с животными можно ✅</td>\n",
       "      <td>2022-03-14</td>\n",
       "      <td>&lt;NA&gt;</td>\n",
       "    </tr>\n",
       "    <tr>\n",
       "      <th>2022-03-14 18:25:29</th>\n",
       "      <td>tbilisi_arenda_ge.json</td>\n",
       "      <td>1642368689</td>\n",
       "      <td>Аренда квартир Тбилиси</td>\n",
       "      <td>еще фото и описание ниже 👇</td>\n",
       "      <td>2022-03-14</td>\n",
       "      <td>&lt;NA&gt;</td>\n",
       "    </tr>\n",
       "    <tr>\n",
       "      <th>2022-03-14 18:25:41</th>\n",
       "      <td>tbilisi_arenda_ge.json</td>\n",
       "      <td>1642368689</td>\n",
       "      <td>Аренда квартир Тбилиси</td>\n",
       "      <td>описание ниже 👇</td>\n",
       "      <td>2022-03-14</td>\n",
       "      <td>&lt;NA&gt;</td>\n",
       "    </tr>\n",
       "    <tr>\n",
       "      <th>2022-03-16 09:00:04</th>\n",
       "      <td>tbilisi_arenda_ge.json</td>\n",
       "      <td>1642368689</td>\n",
       "      <td>Аренда квартир Тбилиси</td>\n",
       "      <td>еще фото и описание ниже 👇</td>\n",
       "      <td>2022-03-16</td>\n",
       "      <td>&lt;NA&gt;</td>\n",
       "    </tr>\n",
       "    <tr>\n",
       "      <th>2022-03-16 09:00:04</th>\n",
       "      <td>tbilisi_arenda_ge.json</td>\n",
       "      <td>1642368689</td>\n",
       "      <td>Аренда квартир Тбилиси</td>\n",
       "      <td>описание ниже 👇</td>\n",
       "      <td>2022-03-16</td>\n",
       "      <td>&lt;NA&gt;</td>\n",
       "    </tr>\n",
       "    <tr>\n",
       "      <th>2022-03-21 13:02:01</th>\n",
       "      <td>tbilisi_arenda_ge.json</td>\n",
       "      <td>1642368689</td>\n",
       "      <td>Аренда квартир Тбилиси</td>\n",
       "      <td>еще фото и описание ниже 👇</td>\n",
       "      <td>2022-03-21</td>\n",
       "      <td>&lt;NA&gt;</td>\n",
       "    </tr>\n",
       "    <tr>\n",
       "      <th>2022-03-21 13:02:02</th>\n",
       "      <td>tbilisi_arenda_ge.json</td>\n",
       "      <td>1642368689</td>\n",
       "      <td>Аренда квартир Тбилиси</td>\n",
       "      <td>описание ниже 👇</td>\n",
       "      <td>2022-03-21</td>\n",
       "      <td>&lt;NA&gt;</td>\n",
       "    </tr>\n",
       "    <tr>\n",
       "      <th>2022-03-03 13:08:25</th>\n",
       "      <td>realtorKristina.json</td>\n",
       "      <td>1671158084</td>\n",
       "      <td>Риэлтор Кристина ( Аренда в Тбилиси)</td>\n",
       "      <td>Все квартиры долгосрочные от года, мой номер  ...</td>\n",
       "      <td>2022-03-03</td>\n",
       "      <td>&lt;NA&gt;</td>\n",
       "    </tr>\n",
       "    <tr>\n",
       "      <th>2022-05-03 15:36:47</th>\n",
       "      <td>realtorKristina.json</td>\n",
       "      <td>1671158084</td>\n",
       "      <td>Риэлтор Кристина ( Аренда в Тбилиси)</td>\n",
       "      <td>Для легкого поиска всем кто еще не нашел свой ...</td>\n",
       "      <td>2022-05-03</td>\n",
       "      <td>&lt;NA&gt;</td>\n",
       "    </tr>\n",
       "    <tr>\n",
       "      <th>2022-05-10 14:47:35</th>\n",
       "      <td>realtorKristina.json</td>\n",
       "      <td>1671158084</td>\n",
       "      <td>Риэлтор Кристина ( Аренда в Тбилиси)</td>\n",
       "      <td>Will free 22 may, available to see and book fr...</td>\n",
       "      <td>2022-05-10</td>\n",
       "      <td>&lt;NA&gt;</td>\n",
       "    </tr>\n",
       "    <tr>\n",
       "      <th>2022-05-18 08:40:20</th>\n",
       "      <td>realtorKristina.json</td>\n",
       "      <td>1671158084</td>\n",
       "      <td>Риэлтор Кристина ( Аренда в Тбилиси)</td>\n",
       "      <td>Жильцы уехали в Батуми просмотр отменяется на ...</td>\n",
       "      <td>2022-05-18</td>\n",
       "      <td>&lt;NA&gt;</td>\n",
       "    </tr>\n",
       "    <tr>\n",
       "      <th>2022-05-29 14:38:44</th>\n",
       "      <td>realtorKristina.json</td>\n",
       "      <td>1671158084</td>\n",
       "      <td>Риэлтор Кристина ( Аренда в Тбилиси)</td>\n",
       "      <td>Можно смотреть сегодня в 18:00</td>\n",
       "      <td>2022-05-29</td>\n",
       "      <td>&lt;NA&gt;</td>\n",
       "    </tr>\n",
       "    <tr>\n",
       "      <th>2022-06-03 11:02:35</th>\n",
       "      <td>realtorKristina.json</td>\n",
       "      <td>1671158084</td>\n",
       "      <td>Риэлтор Кристина ( Аренда в Тбилиси)</td>\n",
       "      <td>Можно смотреть в 16:00</td>\n",
       "      <td>2022-06-03</td>\n",
       "      <td>&lt;NA&gt;</td>\n",
       "    </tr>\n",
       "    <tr>\n",
       "      <th>2022-06-05 19:46:26</th>\n",
       "      <td>realtorKristina.json</td>\n",
       "      <td>1671158084</td>\n",
       "      <td>Риэлтор Кристина ( Аренда в Тбилиси)</td>\n",
       "      <td>Очень много квартир выше свободно, пока ничего...</td>\n",
       "      <td>2022-06-05</td>\n",
       "      <td>&lt;NA&gt;</td>\n",
       "    </tr>\n",
       "    <tr>\n",
       "      <th>2022-03-12 12:27:45</th>\n",
       "      <td>kvartiry_v_tbilisi.json</td>\n",
       "      <td>1676033482</td>\n",
       "      <td>Квартиры в Тбилиси - NEW</td>\n",
       "      <td>Условия работы с нами:\\n✋ Кто я:\\n- Меня зовут...</td>\n",
       "      <td>2022-03-12</td>\n",
       "      <td>&lt;NA&gt;</td>\n",
       "    </tr>\n",
       "    <tr>\n",
       "      <th>2022-03-12 12:29:01</th>\n",
       "      <td>kvartiry_v_tbilisi.json</td>\n",
       "      <td>1676033482</td>\n",
       "      <td>Квартиры в Тбилиси - NEW</td>\n",
       "      <td>По поводу срока аренды</td>\n",
       "      <td>2022-03-12</td>\n",
       "      <td>&lt;NA&gt;</td>\n",
       "    </tr>\n",
       "    <tr>\n",
       "      <th>2022-03-13 17:09:45</th>\n",
       "      <td>kvartiry_v_tbilisi.json</td>\n",
       "      <td>1676033482</td>\n",
       "      <td>Квартиры в Тбилиси - NEW</td>\n",
       "      <td>По поводу комиссионных. \\nЯ ищу, подбираю квар...</td>\n",
       "      <td>2022-03-13</td>\n",
       "      <td>&lt;NA&gt;</td>\n",
       "    </tr>\n",
       "    <tr>\n",
       "      <th>2022-03-15 09:52:01</th>\n",
       "      <td>kvartiry_v_tbilisi.json</td>\n",
       "      <td>1676033482</td>\n",
       "      <td>Квартиры в Тбилиси - NEW</td>\n",
       "      <td>‼️ОБЯЗАТЕЛЬНО К ОЗНАКОМЛЕНИЮ!‼️\\n\\nПО ПОВОДУ С...</td>\n",
       "      <td>2022-03-15</td>\n",
       "      <td>&lt;NA&gt;</td>\n",
       "    </tr>\n",
       "    <tr>\n",
       "      <th>2022-03-16 18:05:31</th>\n",
       "      <td>kvartiry_v_tbilisi.json</td>\n",
       "      <td>1676033482</td>\n",
       "      <td>Квартиры в Тбилиси - NEW</td>\n",
       "      <td>❤️❤️❤️❤️❤️❤️❤️❤️❤️❤️\\n- Те ребята, которые усп...</td>\n",
       "      <td>2022-03-16</td>\n",
       "      <td>&lt;NA&gt;</td>\n",
       "    </tr>\n",
       "    <tr>\n",
       "      <th>2022-04-02 12:25:03</th>\n",
       "      <td>kvartiry_v_tbilisi.json</td>\n",
       "      <td>1676033482</td>\n",
       "      <td>Квартиры в Тбилиси - NEW</td>\n",
       "      <td>✍️У нас появился Агент! \\nТеперь он будет личн...</td>\n",
       "      <td>2022-04-02</td>\n",
       "      <td>&lt;NA&gt;</td>\n",
       "    </tr>\n",
       "    <tr>\n",
       "      <th>2022-04-07 13:46:44</th>\n",
       "      <td>kvartiry_v_tbilisi.json</td>\n",
       "      <td>1676033482</td>\n",
       "      <td>Квартиры в Тбилиси - NEW</td>\n",
       "      <td>🤝ГЛАВНЫЕ УСЛОВИЯ РАБОТЫ С НАМИ:\\n1. Все кварти...</td>\n",
       "      <td>2022-04-07</td>\n",
       "      <td>&lt;NA&gt;</td>\n",
       "    </tr>\n",
       "    <tr>\n",
       "      <th>2022-04-15 11:55:11</th>\n",
       "      <td>kvartiry_v_tbilisi.json</td>\n",
       "      <td>1676033482</td>\n",
       "      <td>Квартиры в Тбилиси - NEW</td>\n",
       "      <td>Если вы заняты в работе, не можете выезжать ср...</td>\n",
       "      <td>2022-04-15</td>\n",
       "      <td>&lt;NA&gt;</td>\n",
       "    </tr>\n",
       "    <tr>\n",
       "      <th>2022-04-18 11:39:32</th>\n",
       "      <td>kvartiry_v_tbilisi.json</td>\n",
       "      <td>1676033482</td>\n",
       "      <td>Квартиры в Тбилиси - NEW</td>\n",
       "      <td>Добрый день!\\nАдминистрация канала очень проси...</td>\n",
       "      <td>2022-04-18</td>\n",
       "      <td>&lt;NA&gt;</td>\n",
       "    </tr>\n",
       "  </tbody>\n",
       "</table>\n",
       "</div>"
      ],
      "text/plain": [
       "                                        link          id  \\\n",
       "timestamp                                                  \n",
       "2022-04-03 13:46:41              GE4YOU.json  1170680593   \n",
       "2022-04-19 10:01:37              GE4YOU.json  1170680593   \n",
       "2022-04-20 09:35:51              GE4YOU.json  1170680593   \n",
       "2022-04-21 09:15:55              GE4YOU.json  1170680593   \n",
       "2022-04-21 16:54:49              GE4YOU.json  1170680593   \n",
       "2022-03-01 12:57:19               domtb.json  1377602081   \n",
       "2022-03-09 08:01:32   tbilisi_arenda_ge.json  1642368689   \n",
       "2022-03-14 15:23:20   tbilisi_arenda_ge.json  1642368689   \n",
       "2022-03-14 18:25:29   tbilisi_arenda_ge.json  1642368689   \n",
       "2022-03-14 18:25:41   tbilisi_arenda_ge.json  1642368689   \n",
       "2022-03-16 09:00:04   tbilisi_arenda_ge.json  1642368689   \n",
       "2022-03-16 09:00:04   tbilisi_arenda_ge.json  1642368689   \n",
       "2022-03-21 13:02:01   tbilisi_arenda_ge.json  1642368689   \n",
       "2022-03-21 13:02:02   tbilisi_arenda_ge.json  1642368689   \n",
       "2022-03-03 13:08:25     realtorKristina.json  1671158084   \n",
       "2022-05-03 15:36:47     realtorKristina.json  1671158084   \n",
       "2022-05-10 14:47:35     realtorKristina.json  1671158084   \n",
       "2022-05-18 08:40:20     realtorKristina.json  1671158084   \n",
       "2022-05-29 14:38:44     realtorKristina.json  1671158084   \n",
       "2022-06-03 11:02:35     realtorKristina.json  1671158084   \n",
       "2022-06-05 19:46:26     realtorKristina.json  1671158084   \n",
       "2022-03-12 12:27:45  kvartiry_v_tbilisi.json  1676033482   \n",
       "2022-03-12 12:29:01  kvartiry_v_tbilisi.json  1676033482   \n",
       "2022-03-13 17:09:45  kvartiry_v_tbilisi.json  1676033482   \n",
       "2022-03-15 09:52:01  kvartiry_v_tbilisi.json  1676033482   \n",
       "2022-03-16 18:05:31  kvartiry_v_tbilisi.json  1676033482   \n",
       "2022-04-02 12:25:03  kvartiry_v_tbilisi.json  1676033482   \n",
       "2022-04-07 13:46:44  kvartiry_v_tbilisi.json  1676033482   \n",
       "2022-04-15 11:55:11  kvartiry_v_tbilisi.json  1676033482   \n",
       "2022-04-18 11:39:32  kvartiry_v_tbilisi.json  1676033482   \n",
       "\n",
       "                                                                  name  \\\n",
       "timestamp                                                                \n",
       "2022-04-03 13:46:41  🏡Тбилиси Снять, сдать, купить, продать, недвиж...   \n",
       "2022-04-19 10:01:37  🏡Тбилиси Снять, сдать, купить, продать, недвиж...   \n",
       "2022-04-20 09:35:51  🏡Тбилиси Снять, сдать, купить, продать, недвиж...   \n",
       "2022-04-21 09:15:55  🏡Тбилиси Снять, сдать, купить, продать, недвиж...   \n",
       "2022-04-21 16:54:49  🏡Тбилиси Снять, сдать, купить, продать, недвиж...   \n",
       "2022-03-01 12:57:19           Тбилиси Объявления, Недвижимость, Аренда   \n",
       "2022-03-09 08:01:32                             Аренда квартир Тбилиси   \n",
       "2022-03-14 15:23:20                             Аренда квартир Тбилиси   \n",
       "2022-03-14 18:25:29                             Аренда квартир Тбилиси   \n",
       "2022-03-14 18:25:41                             Аренда квартир Тбилиси   \n",
       "2022-03-16 09:00:04                             Аренда квартир Тбилиси   \n",
       "2022-03-16 09:00:04                             Аренда квартир Тбилиси   \n",
       "2022-03-21 13:02:01                             Аренда квартир Тбилиси   \n",
       "2022-03-21 13:02:02                             Аренда квартир Тбилиси   \n",
       "2022-03-03 13:08:25               Риэлтор Кристина ( Аренда в Тбилиси)   \n",
       "2022-05-03 15:36:47               Риэлтор Кристина ( Аренда в Тбилиси)   \n",
       "2022-05-10 14:47:35               Риэлтор Кристина ( Аренда в Тбилиси)   \n",
       "2022-05-18 08:40:20               Риэлтор Кристина ( Аренда в Тбилиси)   \n",
       "2022-05-29 14:38:44               Риэлтор Кристина ( Аренда в Тбилиси)   \n",
       "2022-06-03 11:02:35               Риэлтор Кристина ( Аренда в Тбилиси)   \n",
       "2022-06-05 19:46:26               Риэлтор Кристина ( Аренда в Тбилиси)   \n",
       "2022-03-12 12:27:45                           Квартиры в Тбилиси - NEW   \n",
       "2022-03-12 12:29:01                           Квартиры в Тбилиси - NEW   \n",
       "2022-03-13 17:09:45                           Квартиры в Тбилиси - NEW   \n",
       "2022-03-15 09:52:01                           Квартиры в Тбилиси - NEW   \n",
       "2022-03-16 18:05:31                           Квартиры в Тбилиси - NEW   \n",
       "2022-04-02 12:25:03                           Квартиры в Тбилиси - NEW   \n",
       "2022-04-07 13:46:44                           Квартиры в Тбилиси - NEW   \n",
       "2022-04-15 11:55:11                           Квартиры в Тбилиси - NEW   \n",
       "2022-04-18 11:39:32                           Квартиры в Тбилиси - NEW   \n",
       "\n",
       "                                                                  text  \\\n",
       "timestamp                                                                \n",
       "2022-04-03 13:46:41  📈     \\nОб этом в программе «Деловое утро» рас...   \n",
       "2022-04-19 10:01:37  Друзья, сообщаем, что в период 22-25 апреля вк...   \n",
       "2022-04-20 09:35:51  Друзья, сообщаем, что в период 22-25 апреля вк...   \n",
       "2022-04-21 09:15:55  Друзья, сообщаем, что в период 22-25 апреля вк...   \n",
       "2022-04-21 16:54:49  Друзья, сообщаем, что в период 22-25 апреля вк...   \n",
       "2022-03-01 12:57:19  Здравствуйте! Все объявления на канале по умол...   \n",
       "2022-03-09 08:01:32  Мы открываем свою группу по аренде недвижимост...   \n",
       "2022-03-14 15:23:20                         👆 UPD: с животными можно ✅   \n",
       "2022-03-14 18:25:29                         еще фото и описание ниже 👇   \n",
       "2022-03-14 18:25:41                                    описание ниже 👇   \n",
       "2022-03-16 09:00:04                         еще фото и описание ниже 👇   \n",
       "2022-03-16 09:00:04                                    описание ниже 👇   \n",
       "2022-03-21 13:02:01                         еще фото и описание ниже 👇   \n",
       "2022-03-21 13:02:02                                    описание ниже 👇   \n",
       "2022-03-03 13:08:25  Все квартиры долгосрочные от года, мой номер  ...   \n",
       "2022-05-03 15:36:47  Для легкого поиска всем кто еще не нашел свой ...   \n",
       "2022-05-10 14:47:35  Will free 22 may, available to see and book fr...   \n",
       "2022-05-18 08:40:20  Жильцы уехали в Батуми просмотр отменяется на ...   \n",
       "2022-05-29 14:38:44                     Можно смотреть сегодня в 18:00   \n",
       "2022-06-03 11:02:35                             Можно смотреть в 16:00   \n",
       "2022-06-05 19:46:26  Очень много квартир выше свободно, пока ничего...   \n",
       "2022-03-12 12:27:45  Условия работы с нами:\\n✋ Кто я:\\n- Меня зовут...   \n",
       "2022-03-12 12:29:01                             По поводу срока аренды   \n",
       "2022-03-13 17:09:45  По поводу комиссионных. \\nЯ ищу, подбираю квар...   \n",
       "2022-03-15 09:52:01  ‼️ОБЯЗАТЕЛЬНО К ОЗНАКОМЛЕНИЮ!‼️\\n\\nПО ПОВОДУ С...   \n",
       "2022-03-16 18:05:31  ❤️❤️❤️❤️❤️❤️❤️❤️❤️❤️\\n- Те ребята, которые усп...   \n",
       "2022-04-02 12:25:03  ✍️У нас появился Агент! \\nТеперь он будет личн...   \n",
       "2022-04-07 13:46:44  🤝ГЛАВНЫЕ УСЛОВИЯ РАБОТЫ С НАМИ:\\n1. Все кварти...   \n",
       "2022-04-15 11:55:11  Если вы заняты в работе, не можете выезжать ср...   \n",
       "2022-04-18 11:39:32  Добрый день!\\nАдминистрация канала очень проси...   \n",
       "\n",
       "                           date price  \n",
       "timestamp                              \n",
       "2022-04-03 13:46:41  2022-04-03  <NA>  \n",
       "2022-04-19 10:01:37  2022-04-19  <NA>  \n",
       "2022-04-20 09:35:51  2022-04-20  <NA>  \n",
       "2022-04-21 09:15:55  2022-04-21  <NA>  \n",
       "2022-04-21 16:54:49  2022-04-21  <NA>  \n",
       "2022-03-01 12:57:19  2022-03-01  <NA>  \n",
       "2022-03-09 08:01:32  2022-03-09  <NA>  \n",
       "2022-03-14 15:23:20  2022-03-14  <NA>  \n",
       "2022-03-14 18:25:29  2022-03-14  <NA>  \n",
       "2022-03-14 18:25:41  2022-03-14  <NA>  \n",
       "2022-03-16 09:00:04  2022-03-16  <NA>  \n",
       "2022-03-16 09:00:04  2022-03-16  <NA>  \n",
       "2022-03-21 13:02:01  2022-03-21  <NA>  \n",
       "2022-03-21 13:02:02  2022-03-21  <NA>  \n",
       "2022-03-03 13:08:25  2022-03-03  <NA>  \n",
       "2022-05-03 15:36:47  2022-05-03  <NA>  \n",
       "2022-05-10 14:47:35  2022-05-10  <NA>  \n",
       "2022-05-18 08:40:20  2022-05-18  <NA>  \n",
       "2022-05-29 14:38:44  2022-05-29  <NA>  \n",
       "2022-06-03 11:02:35  2022-06-03  <NA>  \n",
       "2022-06-05 19:46:26  2022-06-05  <NA>  \n",
       "2022-03-12 12:27:45  2022-03-12  <NA>  \n",
       "2022-03-12 12:29:01  2022-03-12  <NA>  \n",
       "2022-03-13 17:09:45  2022-03-13  <NA>  \n",
       "2022-03-15 09:52:01  2022-03-15  <NA>  \n",
       "2022-03-16 18:05:31  2022-03-16  <NA>  \n",
       "2022-04-02 12:25:03  2022-04-02  <NA>  \n",
       "2022-04-07 13:46:44  2022-04-07  <NA>  \n",
       "2022-04-15 11:55:11  2022-04-15  <NA>  \n",
       "2022-04-18 11:39:32  2022-04-18  <NA>  "
      ]
     },
     "execution_count": 22,
     "metadata": {},
     "output_type": "execute_result"
    }
   ],
   "source": [
    "df[df.price.isna()].head(30)"
   ]
  },
  {
   "cell_type": "code",
   "execution_count": 23,
   "id": "5a393699-377e-4d8b-8200-513e75f35f4b",
   "metadata": {},
   "outputs": [],
   "source": [
    "# the NA values seem reasonable, gonna drop\n",
    "df.dropna(inplace=True)"
   ]
  },
  {
   "cell_type": "code",
   "execution_count": 24,
   "id": "dbf3c0ed-b654-4a4f-b3c5-b33dae1b2484",
   "metadata": {},
   "outputs": [
    {
     "data": {
      "text/html": [
       "<div>\n",
       "<style scoped>\n",
       "    .dataframe tbody tr th:only-of-type {\n",
       "        vertical-align: middle;\n",
       "    }\n",
       "\n",
       "    .dataframe tbody tr th {\n",
       "        vertical-align: top;\n",
       "    }\n",
       "\n",
       "    .dataframe thead th {\n",
       "        text-align: right;\n",
       "    }\n",
       "</style>\n",
       "<table border=\"1\" class=\"dataframe\">\n",
       "  <thead>\n",
       "    <tr style=\"text-align: right;\">\n",
       "      <th></th>\n",
       "      <th>link</th>\n",
       "      <th>id</th>\n",
       "      <th>name</th>\n",
       "      <th>text</th>\n",
       "      <th>date</th>\n",
       "      <th>price</th>\n",
       "    </tr>\n",
       "    <tr>\n",
       "      <th>timestamp</th>\n",
       "      <th></th>\n",
       "      <th></th>\n",
       "      <th></th>\n",
       "      <th></th>\n",
       "      <th></th>\n",
       "      <th></th>\n",
       "    </tr>\n",
       "  </thead>\n",
       "  <tbody>\n",
       "    <tr>\n",
       "      <th>2022-03-05 17:40:54</th>\n",
       "      <td>domtb.json</td>\n",
       "      <td>1377602081</td>\n",
       "      <td>Тбилиси Объявления, Недвижимость, Аренда</td>\n",
       "      <td>⬆️⬆️⬆️⬆️⬆️⬆️⬆️\\n01020\\n     \\n📍 Сопели Дигоми\\...</td>\n",
       "      <td>2022-03-05</td>\n",
       "      <td>3500</td>\n",
       "    </tr>\n",
       "    <tr>\n",
       "      <th>2022-03-05 18:12:08</th>\n",
       "      <td>domtb.json</td>\n",
       "      <td>1377602081</td>\n",
       "      <td>Тбилиси Объявления, Недвижимость, Аренда</td>\n",
       "      <td>⬆️⬆️⬆️⬆️⬆️⬆️⬆️\\n01021\\n    \\n📍 Ул. Григол Воль...</td>\n",
       "      <td>2022-03-05</td>\n",
       "      <td>6500</td>\n",
       "    </tr>\n",
       "    <tr>\n",
       "      <th>2022-03-14 19:25:32</th>\n",
       "      <td>domtb.json</td>\n",
       "      <td>1377602081</td>\n",
       "      <td>Тбилиси Объявления, Недвижимость, Аренда</td>\n",
       "      <td>⬆️⬆️⬆️\\n01052\\n   \\n📍 Ул. Мцхета 32\\n🏣 Дом 1\\n...</td>\n",
       "      <td>2022-03-14</td>\n",
       "      <td>4000</td>\n",
       "    </tr>\n",
       "    <tr>\n",
       "      <th>2022-03-15 11:12:27</th>\n",
       "      <td>domtb.json</td>\n",
       "      <td>1377602081</td>\n",
       "      <td>Тбилиси Объявления, Недвижимость, Аренда</td>\n",
       "      <td>🔆01054\\n    \\n📍Пр. Чавчавадзе 80\\n✅ 335 м²\\n✅ ...</td>\n",
       "      <td>2022-03-15</td>\n",
       "      <td>3500</td>\n",
       "    </tr>\n",
       "    <tr>\n",
       "      <th>2022-03-22 18:55:18</th>\n",
       "      <td>domtb.json</td>\n",
       "      <td>1377602081</td>\n",
       "      <td>Тбилиси Объявления, Недвижимость, Аренда</td>\n",
       "      <td>⬆️⬆️⬆️\\n01076\\n      \\n📍 Ул. Ониашвили (Ведзис...</td>\n",
       "      <td>2022-03-22</td>\n",
       "      <td>4500</td>\n",
       "    </tr>\n",
       "    <tr>\n",
       "      <th>...</th>\n",
       "      <td>...</td>\n",
       "      <td>...</td>\n",
       "      <td>...</td>\n",
       "      <td>...</td>\n",
       "      <td>...</td>\n",
       "      <td>...</td>\n",
       "    </tr>\n",
       "    <tr>\n",
       "      <th>2022-04-20 15:27:43</th>\n",
       "      <td>arendapokupkageorgia.json</td>\n",
       "      <td>1678678376</td>\n",
       "      <td>Недвижимость Грузия Аренда Тбилиси</td>\n",
       "      <td>#286     не для граждан РФ\\n\\n \\nКомнат 2, спа...</td>\n",
       "      <td>2022-04-20</td>\n",
       "      <td>7387</td>\n",
       "    </tr>\n",
       "    <tr>\n",
       "      <th>2022-05-05 14:45:17</th>\n",
       "      <td>arendapokupkageorgia.json</td>\n",
       "      <td>1678678376</td>\n",
       "      <td>Недвижимость Грузия Аренда Тбилиси</td>\n",
       "      <td>#460     \\nСдаётся 2 новые квартиры в частном ...</td>\n",
       "      <td>2022-05-05</td>\n",
       "      <td>9224</td>\n",
       "    </tr>\n",
       "    <tr>\n",
       "      <th>2022-05-16 13:13:59</th>\n",
       "      <td>arendapokupkageorgia.json</td>\n",
       "      <td>1678678376</td>\n",
       "      <td>Недвижимость Грузия Аренда Тбилиси</td>\n",
       "      <td>#591    \\n\\n600$\\nКомнат 2, спальня 1\\nПлощадь...</td>\n",
       "      <td>2022-05-16</td>\n",
       "      <td>7200</td>\n",
       "    </tr>\n",
       "    <tr>\n",
       "      <th>2022-05-20 13:32:35</th>\n",
       "      <td>arendapokupkageorgia.json</td>\n",
       "      <td>1678678376</td>\n",
       "      <td>Недвижимость Грузия Аренда Тбилиси</td>\n",
       "      <td>#659     \\n\\n9000$\\nКомнат 12, спален 9 (в каж...</td>\n",
       "      <td>2022-05-20</td>\n",
       "      <td>9000</td>\n",
       "    </tr>\n",
       "    <tr>\n",
       "      <th>2022-05-25 19:43:24</th>\n",
       "      <td>arendapokupkageorgia.json</td>\n",
       "      <td>1678678376</td>\n",
       "      <td>Недвижимость Грузия Аренда Тбилиси</td>\n",
       "      <td>#720    \\n\\n2500 лар/день\\nПлощадь дома 500\\nП...</td>\n",
       "      <td>2022-05-25</td>\n",
       "      <td>4000</td>\n",
       "    </tr>\n",
       "  </tbody>\n",
       "</table>\n",
       "<p>82 rows × 6 columns</p>\n",
       "</div>"
      ],
      "text/plain": [
       "                                          link          id  \\\n",
       "timestamp                                                    \n",
       "2022-03-05 17:40:54                 domtb.json  1377602081   \n",
       "2022-03-05 18:12:08                 domtb.json  1377602081   \n",
       "2022-03-14 19:25:32                 domtb.json  1377602081   \n",
       "2022-03-15 11:12:27                 domtb.json  1377602081   \n",
       "2022-03-22 18:55:18                 domtb.json  1377602081   \n",
       "...                                        ...         ...   \n",
       "2022-04-20 15:27:43  arendapokupkageorgia.json  1678678376   \n",
       "2022-05-05 14:45:17  arendapokupkageorgia.json  1678678376   \n",
       "2022-05-16 13:13:59  arendapokupkageorgia.json  1678678376   \n",
       "2022-05-20 13:32:35  arendapokupkageorgia.json  1678678376   \n",
       "2022-05-25 19:43:24  arendapokupkageorgia.json  1678678376   \n",
       "\n",
       "                                                         name  \\\n",
       "timestamp                                                       \n",
       "2022-03-05 17:40:54  Тбилиси Объявления, Недвижимость, Аренда   \n",
       "2022-03-05 18:12:08  Тбилиси Объявления, Недвижимость, Аренда   \n",
       "2022-03-14 19:25:32  Тбилиси Объявления, Недвижимость, Аренда   \n",
       "2022-03-15 11:12:27  Тбилиси Объявления, Недвижимость, Аренда   \n",
       "2022-03-22 18:55:18  Тбилиси Объявления, Недвижимость, Аренда   \n",
       "...                                                       ...   \n",
       "2022-04-20 15:27:43        Недвижимость Грузия Аренда Тбилиси   \n",
       "2022-05-05 14:45:17        Недвижимость Грузия Аренда Тбилиси   \n",
       "2022-05-16 13:13:59        Недвижимость Грузия Аренда Тбилиси   \n",
       "2022-05-20 13:32:35        Недвижимость Грузия Аренда Тбилиси   \n",
       "2022-05-25 19:43:24        Недвижимость Грузия Аренда Тбилиси   \n",
       "\n",
       "                                                                  text  \\\n",
       "timestamp                                                                \n",
       "2022-03-05 17:40:54  ⬆️⬆️⬆️⬆️⬆️⬆️⬆️\\n01020\\n     \\n📍 Сопели Дигоми\\...   \n",
       "2022-03-05 18:12:08  ⬆️⬆️⬆️⬆️⬆️⬆️⬆️\\n01021\\n    \\n📍 Ул. Григол Воль...   \n",
       "2022-03-14 19:25:32  ⬆️⬆️⬆️\\n01052\\n   \\n📍 Ул. Мцхета 32\\n🏣 Дом 1\\n...   \n",
       "2022-03-15 11:12:27  🔆01054\\n    \\n📍Пр. Чавчавадзе 80\\n✅ 335 м²\\n✅ ...   \n",
       "2022-03-22 18:55:18  ⬆️⬆️⬆️\\n01076\\n      \\n📍 Ул. Ониашвили (Ведзис...   \n",
       "...                                                                ...   \n",
       "2022-04-20 15:27:43  #286     не для граждан РФ\\n\\n \\nКомнат 2, спа...   \n",
       "2022-05-05 14:45:17  #460     \\nСдаётся 2 новые квартиры в частном ...   \n",
       "2022-05-16 13:13:59  #591    \\n\\n600$\\nКомнат 2, спальня 1\\nПлощадь...   \n",
       "2022-05-20 13:32:35  #659     \\n\\n9000$\\nКомнат 12, спален 9 (в каж...   \n",
       "2022-05-25 19:43:24  #720    \\n\\n2500 лар/день\\nПлощадь дома 500\\nП...   \n",
       "\n",
       "                           date price  \n",
       "timestamp                              \n",
       "2022-03-05 17:40:54  2022-03-05  3500  \n",
       "2022-03-05 18:12:08  2022-03-05  6500  \n",
       "2022-03-14 19:25:32  2022-03-14  4000  \n",
       "2022-03-15 11:12:27  2022-03-15  3500  \n",
       "2022-03-22 18:55:18  2022-03-22  4500  \n",
       "...                         ...   ...  \n",
       "2022-04-20 15:27:43  2022-04-20  7387  \n",
       "2022-05-05 14:45:17  2022-05-05  9224  \n",
       "2022-05-16 13:13:59  2022-05-16  7200  \n",
       "2022-05-20 13:32:35  2022-05-20  9000  \n",
       "2022-05-25 19:43:24  2022-05-25  4000  \n",
       "\n",
       "[82 rows x 6 columns]"
      ]
     },
     "execution_count": 24,
     "metadata": {},
     "output_type": "execute_result"
    }
   ],
   "source": [
    "df[df.price > 3000]"
   ]
  },
  {
   "cell_type": "markdown",
   "id": "ee734036-22eb-4bc8-baeb-7ae3ec51022a",
   "metadata": {},
   "source": [
    "### Outliers cleaning"
   ]
  },
  {
   "cell_type": "markdown",
   "id": "a17e99da-559d-4157-b36c-97ed7c9c51d5",
   "metadata": {},
   "source": [
    "We still see that there are a lot of outliers. Some of those are due to the nature of offering: it may be flat for sale (not for rent) or it may be a house."
   ]
  },
  {
   "cell_type": "code",
   "execution_count": null,
   "id": "950556ae-afea-4100-b18f-1e7f6c460c16",
   "metadata": {},
   "outputs": [],
   "source": []
  },
  {
   "cell_type": "code",
   "execution_count": 25,
   "id": "e166581f-429e-408e-b6c1-deb83686ed69",
   "metadata": {},
   "outputs": [],
   "source": [
    "df[\"susp\"] =df.text.str.lower().apply(lambda x: any([term in x for term in {\"продаётся\" , \"продажа\", \"дом\"}]))"
   ]
  },
  {
   "cell_type": "code",
   "execution_count": 26,
   "id": "7e3e9e48-7864-4d7b-a778-f7b76b368de1",
   "metadata": {},
   "outputs": [
    {
     "data": {
      "text/plain": [
       "0.1060419235511714"
      ]
     },
     "execution_count": 26,
     "metadata": {},
     "output_type": "execute_result"
    }
   ],
   "source": [
    "df.susp.sum() / len(df.susp)"
   ]
  },
  {
   "cell_type": "code",
   "execution_count": 27,
   "id": "e5c50101-f341-49ee-b56b-be8b531b31f9",
   "metadata": {},
   "outputs": [],
   "source": [
    "df = df[~df.susp].copy()"
   ]
  },
  {
   "cell_type": "markdown",
   "id": "d3f457a8-c80a-4f27-bcd4-d45c044d5b41",
   "metadata": {},
   "source": [
    "## 4. Analysis"
   ]
  },
  {
   "cell_type": "code",
   "execution_count": null,
   "id": "cf42390b-75ca-414e-af3f-e604c0b7f145",
   "metadata": {},
   "outputs": [],
   "source": []
  },
  {
   "cell_type": "code",
   "execution_count": 28,
   "id": "ec2b317c-42a1-4a04-bd08-061e4b1a67fc",
   "metadata": {},
   "outputs": [],
   "source": [
    "import seaborn as sns\n",
    "import matplotlib.pyplot as plt"
   ]
  },
  {
   "cell_type": "code",
   "execution_count": 34,
   "id": "afb000d4-075a-47c9-b636-e6c241defb9c",
   "metadata": {},
   "outputs": [],
   "source": [
    "cut_off = 2000"
   ]
  },
  {
   "cell_type": "code",
   "execution_count": 35,
   "id": "48d9df0d-e3dc-461c-b093-c6609ce54f40",
   "metadata": {},
   "outputs": [
    {
     "data": {
      "text/plain": [
       "<AxesSubplot:xlabel='date'>"
      ]
     },
     "execution_count": 35,
     "metadata": {},
     "output_type": "execute_result"
    },
    {
     "data": {
      "image/png": "[encoded data removed]",
      "text/plain": [
       "<Figure size 432x288 with 1 Axes>"
      ]
     },
     "metadata": {
      "needs_background": "light"
     },
     "output_type": "display_data"
    }
   ],
   "source": [
    "df[df.price < cut_off].groupby(\"date\").price.median().plot()"
   ]
  },
  {
   "cell_type": "code",
   "execution_count": 36,
   "id": "78f5ec0d-a947-4e4b-80aa-88bdd2e9f05c",
   "metadata": {},
   "outputs": [
    {
     "data": {
      "text/plain": [
       "<AxesSubplot:xlabel='date'>"
      ]
     },
     "execution_count": 36,
     "metadata": {},
     "output_type": "execute_result"
    },
    {
     "data": {
      "image/png": "[encoded data removed]",
      "text/plain": [
       "<Figure size 432x288 with 1 Axes>"
      ]
     },
     "metadata": {
      "needs_background": "light"
     },
     "output_type": "display_data"
    }
   ],
   "source": [
    "df[df.price < cut_off].groupby(\"date\").price.mean().plot()"
   ]
  },
  {
   "cell_type": "code",
   "execution_count": 37,
   "id": "2c493fd7-2a1b-429e-afea-63c0d1b170a7",
   "metadata": {},
   "outputs": [],
   "source": [
    "price_mean = df[df.price < cut_off].groupby(\"date\").price.mean()\n",
    "price_std = df[df.price < cut_off].groupby(\"date\").price.std()"
   ]
  },
  {
   "cell_type": "code",
   "execution_count": 38,
   "id": "f6478c9b-caa6-4ffd-8cc0-9b48b5d6c0e5",
   "metadata": {},
   "outputs": [
    {
     "data": {
      "image/png": "[encoded data removed]",
      "text/plain": [
       "<Figure size 1440x576 with 1 Axes>"
      ]
     },
     "metadata": {
      "needs_background": "light"
     },
     "output_type": "display_data"
    }
   ],
   "source": [
    "plt.figure(figsize=(20, 8))\n",
    "plt.plot(price_mean.index, price_mean)\n",
    "plt.fill_between(price_mean.index, price_mean-price_std, price_mean+price_std, alpha = 0.5)\n",
    "plt.show()"
   ]
  },
  {
   "cell_type": "code",
   "execution_count": null,
   "id": "0fdd5d96-2b81-421a-a404-2a42f345cbd4",
   "metadata": {},
   "outputs": [],
   "source": []
  }
 ],
 "metadata": {
  "kernelspec": {
   "display_name": "Flats",
   "language": "python",
   "name": "tbiflats"
  },
  "language_info": {
   "codemirror_mode": {
    "name": "ipython",
    "version": 3
   },
   "file_extension": ".py",
   "mimetype": "text/x-python",
   "name": "python",
   "nbconvert_exporter": "python",
   "pygments_lexer": "ipython3",
   "version": "3.10.4"
  }
 },
 "nbformat": 4,
 "nbformat_minor": 5
}
